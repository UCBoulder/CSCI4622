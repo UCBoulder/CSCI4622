{
 "cells": [
  {
   "cell_type": "markdown",
   "metadata": {
    "id": "_7pJ95BbhCCV"
   },
   "source": [
    "\n",
    "Make sure you fill in any place that says `YOUR CODE HERE` or \"YOUR ANSWER HERE\", as well as your name and collaborators below:"
   ]
  },
  {
   "cell_type": "code",
   "execution_count": null,
   "metadata": {
    "id": "foe8-8XNhCCX"
   },
   "outputs": [],
   "source": [
    "# Name format: Last name, First name\n",
    "NAME = \"\"\n",
    "COLLABORATORS = \"\""
   ]
  },
  {
   "cell_type": "markdown",
   "metadata": {
    "deletable": false,
    "editable": false,
    "id": "m8ZcxdyJhCCe",
    "nbgrader": {
     "cell_type": "markdown",
     "checksum": "922cf5d80b098652c87a35b3f5cd7788",
     "grade": false,
     "grade_id": "cell-ca2eaec1400ea6af",
     "locked": true,
     "schema_version": 3,
     "solution": false
    }
   },
   "source": [
    "# Hands-On KNN\n",
    "***\n",
    "\n",
    "In this notebook we'll investigate Scikit-Learn's implementation of K-Nearest Neighbors. In addition, we'll look at how we can evaluate the performance our classifiers with a confusion matrix.  \n",
    "\n",
    "**Names**:\n",
    "\n",
    "**At the end of class, each student should upload this notebook to Canvas to receive participation points.**\n",
    "\n",
    "\n",
    "**Ack**: Based on initial work by Chris Ketelsen, Chenhao Tan"
   ]
  },
  {
   "cell_type": "code",
   "execution_count": null,
   "metadata": {
    "deletable": false,
    "editable": false,
    "id": "3rvhC16ChCCf",
    "nbgrader": {
     "cell_type": "code",
     "checksum": "757688c166f39edf63e286600717f924",
     "grade": false,
     "grade_id": "cell-8455b46494efb130",
     "locked": true,
     "schema_version": 3,
     "solution": false
    }
   },
   "outputs": [],
   "source": [
    "import matplotlib.pylab as plt\n",
    "import numpy as np\n",
    "import helpers"
   ]
  },
  {
   "cell_type": "markdown",
   "metadata": {
    "deletable": false,
    "editable": false,
    "id": "aFEbb_RshCCl",
    "nbgrader": {
     "cell_type": "markdown",
     "checksum": "cf61a4890933305af9cb5573f740bd24",
     "grade": false,
     "grade_id": "cell-4001e61015a6c136",
     "locked": true,
     "schema_version": 3,
     "solution": false
    }
   },
   "source": [
    "### Part 1: Classifying Iris Species \n",
    "***\n",
    "\n",
    "In this problem we'll use K-Nearest Neighbors to classify species of irises based on certain physical characteristics.  The so-called [_iris dataset_](https://en.wikipedia.org/wiki/Iris_flower_data_set) is a popular dataset for prototyping classification algorithms. We can load the iris dataset from Scikit-Learn directly. The dataset contains four features: sepal length, sepal width, pedal length, and pedal width and three classes defined by the species of iris: setosa, versicolor, and virginica. We'll only use the sepal dimensions so that we can easily visualize the data. \n",
    "\n",
    "Execute the following code cell to load training and validation sets for the iris data set and then plot the data.    "
   ]
  },
  {
   "cell_type": "code",
   "execution_count": null,
   "metadata": {
    "colab": {
     "base_uri": "https://localhost:8080/",
     "height": 523
    },
    "deletable": false,
    "editable": false,
    "id": "t0zQHh-DhCCm",
    "nbgrader": {
     "cell_type": "code",
     "checksum": "f7212676b3b690c7970a6ffefe0cc34c",
     "grade": false,
     "grade_id": "cell-e95dd3dd9c144911",
     "locked": true,
     "schema_version": 3,
     "solution": false
    },
    "outputId": "96f0950e-392e-4451-f6d0-7f8f02b21ed2"
   },
   "outputs": [],
   "source": [
    "X_train, y_train, X_valid, y_valid, target_names = helpers.load_iris()\n",
    "print(\"classes = \", target_names)\n",
    "helpers.plot_iris(X_train, y_train)"
   ]
  },
  {
   "cell_type": "markdown",
   "metadata": {
    "deletable": false,
    "editable": false,
    "id": "7yyIEkGuhCCp",
    "nbgrader": {
     "cell_type": "markdown",
     "checksum": "bee3ff5231855095871359af2efe10c6",
     "grade": false,
     "grade_id": "cell-d73656ba1dc1a58e",
     "locked": true,
     "schema_version": 3,
     "solution": false
    }
   },
   "source": [
    "**Part A: Basic description**: How many examples are in the training set?  How many examples belong to each of the three classes? Write code to print the shapes of the matrices X_train and y_train.\n",
    "\n",
    "Hint: `X_train` and `y_train` are Numpy n-dimensional arrays. Use the .shape() function."
   ]
  },
  {
   "cell_type": "code",
   "execution_count": null,
   "metadata": {
    "deletable": false,
    "id": "YjHgMbWMhCCq",
    "nbgrader": {
     "cell_type": "code",
     "checksum": "e8fe56a8d394616de3c45fba9f05737b",
     "grade": true,
     "grade_id": "cell-8e2232ce50911ae9",
     "locked": false,
     "points": 1,
     "schema_version": 3,
     "solution": true
    }
   },
   "outputs": [],
   "source": [
    "#BEGIN: Part A\n",
    "\n",
    "# YOUR CODE HERE\n",
    "\n",
    "#END: Part A"
   ]
  },
  {
   "cell_type": "markdown",
   "metadata": {
    "deletable": false,
    "editable": false,
    "id": "JNxEA6R1hCCt",
    "nbgrader": {
     "cell_type": "markdown",
     "checksum": "4d93f2e46e0de9024589730985c4b6c9",
     "grade": false,
     "grade_id": "cell-b767885dacbed0bb",
     "locked": true,
     "schema_version": 3,
     "solution": false
    }
   },
   "source": [
    "**Part B: Use Sk-Learn Classifier**: Next we'll train a KNN classifier to predict iris species based on the sepal measurement features.  The KNN classifier in Scikit-Learn is called [KNeighborsClassifier](http://scikit-learn.org/stable/modules/generated/sklearn.neighbors.KNeighborsClassifier.html).  Go now and check out the documentation. Define and fit a model with $K=3$ to the training set.  The `plot_knn_boundary` function will then plot the KNN decision boundary against the data. "
   ]
  },
  {
   "cell_type": "code",
   "execution_count": null,
   "metadata": {
    "deletable": false,
    "id": "VBG8qR5ohCCu",
    "nbgrader": {
     "cell_type": "code",
     "checksum": "adf2e3d62303a2a6bd84461bd7e8e34c",
     "grade": false,
     "grade_id": "cell-695197c21371ffad",
     "locked": false,
     "schema_version": 3,
     "solution": true
    }
   },
   "outputs": [],
   "source": [
    "from sklearn.neighbors import KNeighborsClassifier\n",
    "\n",
    "\n",
    "def build_model(X_train, y_train, num_neighbors: int):\n",
    "    '''\n",
    "    build_model\n",
    "    args:\n",
    "          X_train : Numpy array, shape (m,k)\n",
    "          Y_train : Numpy array, shape (m,)\n",
    "          num_neighbors : python integer, the k in \"knn\"\n",
    "    returns: sk-learn KNeighborsClassifier object that has been fitted\n",
    "    '''\n",
    "    # model = ClassifierModel()\n",
    "    #BEGIN B\n",
    "    raise NotImplementedError()\n",
    "\n",
    "    #END B\n",
    "    return model"
   ]
  },
  {
   "cell_type": "code",
   "execution_count": null,
   "metadata": {
    "colab": {
     "base_uri": "https://localhost:8080/",
     "height": 336
    },
    "deletable": false,
    "editable": false,
    "id": "Kss4TOQIhCCx",
    "nbgrader": {
     "cell_type": "code",
     "checksum": "cd31795fed608cfb6a7982d644f5d3b8",
     "grade": true,
     "grade_id": "cell-2a7b73cb69cea042",
     "locked": true,
     "points": 1,
     "schema_version": 3,
     "solution": false
    },
    "outputId": "8f54b1fc-572b-431f-84fa-601472774c75"
   },
   "outputs": [],
   "source": [
    "# These tests are a sanity-check that your code meets the spec. They are not exhaustive tests.\n",
    "knn = build_model(X_train, y_train, 3)\n",
    "\n",
    "assert (type(knn) == KNeighborsClassifier)\n",
    "ex_0_prediction = knn.predict(X_train[0][None, :])\n",
    "assert (ex_0_prediction == 2)\n",
    "\n",
    "ax = helpers.plot_iris(X_train, y_train)\n",
    "helpers.plot_decision_surface(X_train, knn, ax)"
   ]
  },
  {
   "cell_type": "markdown",
   "metadata": {
    "deletable": false,
    "editable": false,
    "id": "VzJU61sGhCC0",
    "nbgrader": {
     "cell_type": "markdown",
     "checksum": "cf27fe5d618caaeefbf3f9af1736bcb0",
     "grade": false,
     "grade_id": "cell-ba8e5160e7b01a93",
     "locked": true,
     "schema_version": 3,
     "solution": false
    }
   },
   "source": [
    "**Part C**: Play with the value of $K$ above.  How does the character of the decision boundary change with $K$? "
   ]
  },
  {
   "cell_type": "code",
   "execution_count": null,
   "metadata": {
    "colab": {
     "base_uri": "https://localhost:8080/",
     "height": 1000
    },
    "deletable": false,
    "id": "fSCIPykihCC1",
    "nbgrader": {
     "cell_type": "code",
     "checksum": "58f1ddff6167d03714bad0c0dec5d2f9",
     "grade": true,
     "grade_id": "cell-429a21eb998fb575",
     "locked": false,
     "points": 1,
     "schema_version": 3,
     "solution": true
    },
    "outputId": "fa5390c9-245c-4f05-abfa-366b4181fb5c"
   },
   "outputs": [],
   "source": [
    "fig, ax = plt.subplots(nrows=2, ncols=3, figsize=(15, 15))\n",
    "ax = ax.reshape(-1)\n",
    "\n",
    "for idx, k in enumerate(range(1, 12, 2)):\n",
    "    print(\"Building model with k={}\".format(k))\n",
    "\n",
    "    #BEGIN C\n",
    "    # YOUR CODE HERE\n",
    "    raise NotImplementedError()\n",
    "    # Put all your code above this line.\n",
    "    #END C\n",
    "    # Here's how to plot multiple sub plots in a clean manner\n",
    "    helpers.plot_decision_surface(X_train, model, ax[idx])"
   ]
  },
  {
   "cell_type": "markdown",
   "metadata": {
    "deletable": false,
    "editable": false,
    "id": "SZPHvSlbhCC4",
    "nbgrader": {
     "cell_type": "markdown",
     "checksum": "e8738589fb74cc3302b298480b1d7b4d",
     "grade": false,
     "grade_id": "cell-85cb6edf2cb31c2e",
     "locked": true,
     "schema_version": 3,
     "solution": false
    }
   },
   "source": [
    "**Part D**: Until this point we've been plotting the KNN decision boundary against the training data, but really we're interested in how our model does on the validation set.  The following code will train a 1-NN classifier and plot the decision boundary against the validation data. How many points in total are misclassified?  Which species get confused with each other the most? \n",
    "\n",
    "Write code below, then put your answers to the above questions in the \"analysis\" cell below the code cell."
   ]
  },
  {
   "cell_type": "code",
   "execution_count": null,
   "metadata": {
    "deletable": false,
    "id": "r7-rYA8fhCC5",
    "nbgrader": {
     "cell_type": "code",
     "checksum": "caaafa4b0b41d61b11543ee747b71e8f",
     "grade": true,
     "grade_id": "cell-faa967f1b2917c9d",
     "locked": false,
     "points": 1,
     "schema_version": 3,
     "solution": true
    }
   },
   "outputs": [],
   "source": [
    "#BEGIN D\n",
    "# YOUR CODE HERE\n",
    "raise NotImplementedError()\n",
    "#END D"
   ]
  },
  {
   "cell_type": "markdown",
   "metadata": {
    "deletable": false,
    "id": "Eb4MfcZchCC8",
    "nbgrader": {
     "cell_type": "markdown",
     "checksum": "d3742cab9424854d4462ed78bc848f9b",
     "grade": true,
     "grade_id": "cell-1b1b914dfaa129f7",
     "locked": false,
     "points": 1,
     "schema_version": 3,
     "solution": true
    }
   },
   "source": [
    "YOUR ANSWER HERE"
   ]
  },
  {
   "cell_type": "markdown",
   "metadata": {
    "deletable": false,
    "editable": false,
    "id": "MVEu8bx6hCC9",
    "nbgrader": {
     "cell_type": "markdown",
     "checksum": "4b9a36529dedfc2144934e0829a31b94",
     "grade": false,
     "grade_id": "cell-878eb8d61b430644",
     "locked": true,
     "schema_version": 3,
     "solution": false
    }
   },
   "source": [
    "**Part E: Confusion Matrix**: Counting misclassified points becomes much more difficult when our data sets are very large.  One convenient method for analyzing misclassification is by constructing the so-called confusion matrix. The confusion matrix is `(# classes)` $\\times$ `(# classes)` matrix such that the entry $C_{ij}$ is the number of examples with _true_ label $i$ predicted to have label $j$. \n",
    "\n",
    "We can compute the confusion matrix using Scikit-Learn's [confusion_matrix](http://scikit-learn.org/stable/modules/generated/sklearn.metrics.confusion_matrix.html) function. Read the documentation and then fill in the missing code to compute the confusion matrix for the validation data and the 1-NN classifier.  Do the entries in $C$ agree (roughly) with the visual counts you made above? \n",
    "\n",
    "Step-by-step:\n",
    "1. Call the `build_model` function that you wrote to create a 1-NN classifier.\n",
    "2. Call the `predict` method of your classifier on the validation data, `X_valid`\n",
    "3. Use the confusion matrix method (see the docs) to calculate the matrix.\n",
    "4. Print the matrix."
   ]
  },
  {
   "cell_type": "code",
   "execution_count": null,
   "metadata": {
    "deletable": false,
    "id": "P11BP-FOhCC9",
    "nbgrader": {
     "cell_type": "code",
     "checksum": "3467299c1d57b44c3021ed9017b098dd",
     "grade": false,
     "grade_id": "cell-dc7edcf4ae49f089",
     "locked": false,
     "schema_version": 3,
     "solution": true
    }
   },
   "outputs": [],
   "source": [
    "from sklearn.metrics import confusion_matrix\n",
    "\n",
    "\n",
    "def calc_confusion_matrix(model, X_eval, y_eval):\n",
    "    ''' calc_confusion_matrix\n",
    "    Args:\n",
    "        model : a KNearestNeighbors model, fitted. The output of build_model.\n",
    "        X_eval : Numpy array, data (m, features) you wish to use as input to the model\n",
    "        y_eval : Numpy array, data (m,) you wish to use as confusion matrix\n",
    "    '''\n",
    "    #BEGIN E\n",
    "    # conf_matrix = None\n",
    "    # Your code here (~2 lines) - predict on data_x, then get conf_matrix between data_y and your predictions\n",
    "    # YOUR CODE HERE\n",
    "    raise NotImplementedError()\n",
    "    #END E\n",
    "    return conf_matrix"
   ]
  },
  {
   "cell_type": "code",
   "execution_count": null,
   "metadata": {
    "deletable": false,
    "editable": false,
    "id": "OUVFKz05hCDA",
    "nbgrader": {
     "cell_type": "code",
     "checksum": "e0630adfa7a29bb8ab89284b25291734",
     "grade": true,
     "grade_id": "cell-ddcf120ee306c6ff",
     "locked": true,
     "points": 1,
     "schema_version": 3,
     "solution": false
    }
   },
   "outputs": [],
   "source": [
    "# Sanity check on k=1 for your code\n",
    "nn1_model = build_model(X_train, y_train, 1)\n",
    "conf_matrix = calc_confusion_matrix(nn1_model, X_valid, y_valid)\n",
    "print(\"Confusion on validation data, k=1\")\n",
    "print(conf_matrix)\n",
    "assert (conf_matrix.sum() == X_valid.shape[0])"
   ]
  },
  {
   "cell_type": "markdown",
   "metadata": {
    "deletable": false,
    "editable": false,
    "id": "jSKCQu7ohCDC",
    "nbgrader": {
     "cell_type": "markdown",
     "checksum": "e49c58e31eaa863d9497543fa24b4ad2",
     "grade": false,
     "grade_id": "cell-48fd179a38037152",
     "locked": true,
     "schema_version": 3,
     "solution": false
    }
   },
   "source": [
    "**Part F**: Vary the number of nearest neighbors used in KNN above and recompute the confusion matrix.  Describe your results. Does there seem to be a particular setting that works better than the others for the validation data ?"
   ]
  },
  {
   "cell_type": "code",
   "execution_count": null,
   "metadata": {
    "deletable": false,
    "id": "OFkHvbmshCDC",
    "nbgrader": {
     "cell_type": "code",
     "checksum": "ebcb887bc066e1def310ff78cd5b417b",
     "grade": true,
     "grade_id": "cell-0cc5c9146c0ee5b7",
     "locked": false,
     "points": 1,
     "schema_version": 3,
     "solution": true
    }
   },
   "outputs": [],
   "source": [
    "for idx, k in enumerate(range(1, 12, 2)):\n",
    "    print(\"Building model with k={}\".format(k))\n",
    "    #BEGIN F\n",
    "    # YOUR CODE HERE\n",
    "    raise NotImplementedError()\n",
    "    #END F"
   ]
  },
  {
   "cell_type": "markdown",
   "metadata": {
    "deletable": false,
    "editable": false,
    "id": "QornCDz1hCDF",
    "nbgrader": {
     "cell_type": "markdown",
     "checksum": "2aafd872091b966eb5735bd0109a14e9",
     "grade": false,
     "grade_id": "cell-8e49cdd1eb11e032",
     "locked": true,
     "schema_version": 3,
     "solution": false
    }
   },
   "source": [
    "**Part G: Calculate per-class accuracy**: Now that we have a confusion matrix, we would like to get a summary of our performance for each matrix. One way to do this would be to calculate the miss-classification rate per class. Remember that the rows correspond to labels of validation data. The sum accross the first row corresponds to the total number of elements in the first class in the validation data. \n",
    "\n",
    "Now, write a function to calculate the per class missclassification rate. It should be a single 3-element vector.\n",
    "\n",
    "HINT: If you have trouble with this, be sure to do the Numpy review as described in Homework 0. There are any numbers to do this, but we used 1x .sum(), 1x np.diag() and one division operation on the matrix."
   ]
  },
  {
   "cell_type": "code",
   "execution_count": null,
   "metadata": {
    "deletable": false,
    "id": "D98oEoARhCDG",
    "nbgrader": {
     "cell_type": "code",
     "checksum": "956f74738ab7bf4a4d68f81d9a6100f8",
     "grade": false,
     "grade_id": "cell-f8aca79c68efd9ed",
     "locked": false,
     "schema_version": 3,
     "solution": true
    }
   },
   "outputs": [],
   "source": [
    "def get_per_class_miss_rate(conf_matrix):\n",
    "    '''\n",
    "    get_per_class_miss_rate\n",
    "    Args:\n",
    "        conf_matrix - a MxM Numpy array, the output of calc_confusion_matrix\n",
    "    '''\n",
    "    per_class_miss_rate = np.zeros((3,))\n",
    "    #BEGIN G\n",
    "    # YOUR CODE HERE\n",
    "    raise NotImplementedError()\n",
    "    #END G\n",
    "\n",
    "    return per_class_miss_rate"
   ]
  },
  {
   "cell_type": "code",
   "execution_count": null,
   "metadata": {
    "deletable": false,
    "editable": false,
    "id": "q0Vv5lpehCDK",
    "nbgrader": {
     "cell_type": "code",
     "checksum": "f7b91958e79b8bb492d67e55a3ace18e",
     "grade": true,
     "grade_id": "cell-1de99db47e748db7",
     "locked": true,
     "points": 1,
     "schema_version": 3,
     "solution": false
    }
   },
   "outputs": [],
   "source": [
    "# Sanity check your code:\n",
    "nn_model = build_model(X_train, y_train, 3)\n",
    "cm = calc_confusion_matrix(nn_model, X_valid, y_valid)\n",
    "miss_rates = get_per_class_miss_rate(cm)\n",
    "print(miss_rates)\n",
    "assert (np.allclose(miss_rates, [0.0, 0.4285, 0.3333], atol=1e-3))"
   ]
  },
  {
   "cell_type": "code",
   "execution_count": null,
   "metadata": {
    "deletable": false,
    "editable": false,
    "id": "G_wzxFaOhCDN",
    "nbgrader": {
     "cell_type": "code",
     "checksum": "9e76369da58b6d286d2e14589dfc24e5",
     "grade": false,
     "grade_id": "cell-ea6c7b4953e00dd0",
     "locked": true,
     "schema_version": 3,
     "solution": false
    },
    "pycharm": {
     "name": "#%%\n"
    }
   },
   "outputs": [],
   "source": [
    "# Print the per-class error rates for different values of k\n",
    "for idx, k in enumerate(range(1, 12, 2)):\n",
    "    print(\"Building model with k={}\".format(k))\n",
    "    knn = build_model(X_train, y_train, k)\n",
    "    cm = calc_confusion_matrix(knn, X_valid, y_valid)\n",
    "    pcmr = get_per_class_miss_rate(cm)\n",
    "    print(\"Per class miss-classification: {}\".format(pcmr))"
   ]
  }
 ],
 "metadata": {
  "colab": {
   "name": "KNN.ipynb",
   "provenance": []
  },
  "kernelspec": {
   "display_name": "Python 3 (ipykernel)",
   "language": "python",
   "name": "python3"
  },
  "language_info": {
   "codemirror_mode": {
    "name": "ipython",
    "version": 3
   },
   "file_extension": ".py",
   "mimetype": "text/x-python",
   "name": "python",
   "nbconvert_exporter": "python",
   "pygments_lexer": "ipython3",
   "version": "3.9.12"
  }
 },
 "nbformat": 4,
 "nbformat_minor": 1
}