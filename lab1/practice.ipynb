{
 "cells": [
  {
   "cell_type": "code",
   "execution_count": null,
   "metadata": {
    "cell_id": "ddd4db2a-3837-4cc1-ac8f-2b7880b64d50",
    "deepnote_cell_height": 93.60000610351562,
    "deepnote_cell_type": "code",
    "deepnote_to_be_reexecuted": false,
    "execution_millis": 1,
    "execution_start": 1661531222856,
    "source_hash": "60aeba49"
   },
   "outputs": [],
   "source": [
    "import numpy as np\n",
    "from numpy import linalg"
   ]
  },
  {
   "cell_type": "markdown",
   "metadata": {
    "cell_id": "00001-4f503c21-3a7c-4f5d-a959-6482e908e064",
    "deepnote_cell_height": 302.20001220703125,
    "deepnote_cell_type": "markdown",
    "pycharm": {
     "name": "#%% md\n"
    }
   },
   "source": [
    "Starting with matrix operations, $A$'s shape: $(m,n)$, $B$'s shape: $(p,q)$\n",
    "- Addition (+): $A + B$\n",
    "- Multiplication (dot, @): $AB$, or by scalar\n",
    "- Inversion: $A^{-1}$\n",
    "- Transpose\n",
    "\n",
    "What are the necessary conditions for each of these operations to be valid (dimensions, $\\det$)...\n",
    "- Addition:\n",
    "- Multiplication:\n",
    "- Inversion"
   ]
  },
  {
   "cell_type": "code",
   "execution_count": null,
   "metadata": {
    "cell_id": "00002-54af382e-f3c7-4588-9bb5-8d7a6add7776",
    "deepnote_cell_height": 147.60000610351562,
    "deepnote_cell_type": "code",
    "deepnote_to_be_reexecuted": false,
    "execution_millis": 3,
    "execution_start": 1661532234610,
    "pycharm": {
     "name": "#%%\n"
    },
    "source_hash": "20e20d87"
   },
   "outputs": [],
   "source": [
    "# Change to valid dimensions\n",
    "np.random.seed(0)\n",
    "m, n, p, q = 3, 3, 2, 4 # m,n,p,q <= 4\n",
    "A = np.random.randint(0, 5, (m,n))\n",
    "B = np.random.randint(0, 5, (p,q))"
   ]
  },
  {
   "cell_type": "code",
   "execution_count": null,
   "metadata": {
    "cell_id": "4f74dc9a7d1849f98ba5ee41329dfb24",
    "deepnote_cell_height": 75.60000610351562,
    "deepnote_cell_type": "code",
    "deepnote_output_heights": [
     39
    ],
    "deepnote_to_be_reexecuted": false,
    "execution_millis": 8,
    "execution_start": 1661532237814,
    "source_hash": "7b88d72a",
    "tags": []
   },
   "outputs": [],
   "source": [
    "# C = A + B; C"
   ]
  },
  {
   "cell_type": "code",
   "execution_count": null,
   "metadata": {
    "cell_id": "63cb7f1b0ea844668bf9f79759abbf64",
    "deepnote_cell_height": 129.60000610351562,
    "deepnote_cell_type": "code",
    "deepnote_to_be_reexecuted": false,
    "execution_millis": 2,
    "execution_start": 1661532245967,
    "source_hash": "98d47510",
    "tags": []
   },
   "outputs": [],
   "source": [
    "# np.random.seed(4622)\n",
    "m, n, p, q = 3, 2, 3, 3\n",
    "A = np.random.randint(0, 5, (m,n))\n",
    "B = np.random.randint(0, 5, (m,n))"
   ]
  },
  {
   "cell_type": "code",
   "execution_count": null,
   "metadata": {
    "cell_id": "4a8e11cb6a034710ab0fbf87cac1d15d",
    "deepnote_cell_height": 75.60000610351562,
    "deepnote_cell_type": "code",
    "deepnote_output_heights": [
     59
    ],
    "deepnote_to_be_reexecuted": false,
    "execution_millis": 15,
    "execution_start": 1661532247649,
    "source_hash": "a0b1b932",
    "tags": []
   },
   "outputs": [],
   "source": [
    "# C = A.dot(B); C # or C = A @ B"
   ]
  },
  {
   "cell_type": "code",
   "execution_count": null,
   "metadata": {
    "cell_id": "d25fc86dd2b5457892e327d9675b5518",
    "deepnote_cell_height": 204.39999389648438,
    "deepnote_cell_type": "code",
    "deepnote_output_heights": [
     59
    ],
    "deepnote_to_be_reexecuted": false,
    "execution_millis": 8,
    "execution_start": 1661532256713,
    "source_hash": "2c3e6039",
    "tags": []
   },
   "outputs": [],
   "source": [
    "np.random.seed(42) # try 17\n",
    "m, n = 3,2\n",
    "A = np.random.randint(0, 5, (m,n))\n",
    "A"
   ]
  },
  {
   "cell_type": "code",
   "execution_count": null,
   "metadata": {
    "cell_id": "b27784ddd5764f2f867e95e8faeaad1b",
    "deepnote_cell_height": 129.60000610351562,
    "deepnote_cell_type": "code",
    "deepnote_output_heights": [
     null,
     59
    ],
    "deepnote_to_be_reexecuted": false,
    "execution_millis": 3,
    "execution_start": 1661532268374,
    "source_hash": "a9649eb8",
    "tags": []
   },
   "outputs": [],
   "source": [
    "# inverse: can't we just do 1/A ????\n",
    "# print(linalg.det(A))\n",
    "# A_inv = linalg.inv(A)\n",
    "# A_inv"
   ]
  },
  {
   "cell_type": "code",
   "execution_count": null,
   "metadata": {
    "cell_id": "610869c98050416aa786dc922d73501d",
    "deepnote_cell_height": 129.60000610351562,
    "deepnote_cell_type": "code",
    "deepnote_to_be_reexecuted": false,
    "execution_millis": 4,
    "execution_start": 1661531278831,
    "source_hash": "185962fe",
    "tags": []
   },
   "outputs": [],
   "source": [
    "# Exercise 1 : Check that A_inv is the inverse of A\n",
    "#BEGIN 1\n",
    "\n",
    "#END 1"
   ]
  },
  {
   "cell_type": "markdown",
   "metadata": {
    "cell_id": "4fbd7b2ecbc240fbb25af5035b8bbec1",
    "deepnote_cell_height": 102.39999389648438,
    "deepnote_cell_type": "markdown",
    "tags": []
   },
   "source": [
    "If $x\\in R^n \\backslash \\{0\\}$, $x$ is an eigenvector associated with the eigenvalue $\\alpha$ if:\n",
    "\n",
    "$$\n",
    "A x = \\alpha.x\n",
    "$$"
   ]
  },
  {
   "cell_type": "code",
   "execution_count": null,
   "metadata": {
    "cell_id": "766296fe2f2c4bb0af2b597317d52484",
    "deepnote_cell_height": 111.60000610351562,
    "deepnote_cell_type": "code",
    "deepnote_output_heights": [
     78
    ],
    "deepnote_to_be_reexecuted": false,
    "execution_millis": 2,
    "execution_start": 1661532277408,
    "source_hash": "80162f4f",
    "tags": []
   },
   "outputs": [],
   "source": [
    "# In Numpy, we use linalg.eig\n",
    "# alphas, X = linalg.eig(A)\n",
    "# alphas, X"
   ]
  },
  {
   "cell_type": "code",
   "execution_count": null,
   "metadata": {
    "cell_id": "b857c5416845413bad06a96d9cae5eb5",
    "deepnote_cell_height": 129.60000610351562,
    "deepnote_cell_type": "code",
    "deepnote_to_be_reexecuted": false,
    "execution_millis": 2,
    "execution_start": 1661531288039,
    "source_hash": "2c1d1319",
    "tags": []
   },
   "outputs": [],
   "source": [
    "# Exercise 2: Check that AX = Alphas X\n",
    "#BEGIN 2\n",
    "\n",
    "#END  2"
   ]
  },
  {
   "cell_type": "markdown",
   "metadata": {
    "cell_id": "a7213f73380a4a428e6676707743da88",
    "deepnote_cell_height": 100,
    "deepnote_cell_type": "markdown",
    "tags": []
   },
   "source": [
    "### Probabilities with Numpy\n",
    "\n",
    "We want now to do some statistics/probabilities. For visualization, we'll use `matplotlib`"
   ]
  },
  {
   "cell_type": "code",
   "execution_count": null,
   "metadata": {
    "cell_id": "6fd5e09961f646ec827e67d429466ceb",
    "deepnote_cell_height": 75.60000610351562,
    "deepnote_cell_type": "code",
    "deepnote_to_be_reexecuted": false,
    "execution_millis": 2,
    "execution_start": 1661531291736,
    "source_hash": "6a77453d",
    "tags": []
   },
   "outputs": [],
   "source": [
    "import matplotlib.pyplot as plt"
   ]
  },
  {
   "cell_type": "code",
   "execution_count": null,
   "metadata": {
    "cell_id": "033831c7bbf7470fbfdbf8c8f1776735",
    "deepnote_cell_height": 129.60000610351562,
    "deepnote_cell_type": "code",
    "deepnote_to_be_reexecuted": false,
    "execution_millis": 6,
    "execution_start": 1661531702280,
    "source_hash": "90aead5f",
    "tags": []
   },
   "outputs": [],
   "source": [
    "np.random.seed(4622)\n",
    "X = np.random.uniform(0,3, (64,2))\n",
    "y = 1 * (X[:,0] >= X[:,1])\n",
    "X = X + np.random.uniform(-.5, .5, (64,2)) # we add some noise"
   ]
  },
  {
   "cell_type": "code",
   "execution_count": null,
   "metadata": {
    "cell_id": "2238da7c2d74409caf6c3217b56ca752",
    "deepnote_cell_height": 425.20001220703125,
    "deepnote_cell_type": "code",
    "deepnote_output_heights": [
     20,
     265
    ],
    "deepnote_to_be_reexecuted": false,
    "execution_millis": 1179,
    "execution_start": 1661531702932,
    "source_hash": "83317b22",
    "tags": []
   },
   "outputs": [],
   "source": [
    "plt.scatter(X[:,0],X[:,1], c=y)\n",
    "plt.title(\"Scatter plot\")"
   ]
  },
  {
   "cell_type": "markdown",
   "metadata": {
    "cell_id": "7dfeeaec062044438007726041c30b0e",
    "deepnote_cell_height": 209.1999969482422,
    "deepnote_cell_type": "markdown",
    "tags": []
   },
   "source": [
    "### Scikit-Learn\n",
    "\n",
    "Provides implementation of most of mainstream Machine Learning models, preprocessing pipelines and toy datasets.\n",
    "\n",
    "All sklearn models `m` have a `m.fit(X,y=None,?)` and a `m.predict(X)` methods.\n",
    "\n",
    "In the example below, we'll use RidgeClassifier (linear classifier):\n",
    "\n",
    "https://scikit-learn.org/stable/modules/generated/sklearn.linear_model.RidgeClassifier.html"
   ]
  },
  {
   "cell_type": "code",
   "execution_count": null,
   "metadata": {
    "cell_id": "377067ccfb974b828252def63d22a021",
    "deepnote_cell_height": 147.60000610351562,
    "deepnote_cell_type": "code",
    "deepnote_output_heights": [
     59
    ],
    "deepnote_to_be_reexecuted": false,
    "execution_millis": 0,
    "execution_start": 1661531706707,
    "source_hash": "7285776b",
    "tags": []
   },
   "outputs": [],
   "source": [
    "from sklearn.linear_model import RidgeClassifier\n",
    "\n",
    "lin_clf = RidgeClassifier()\n",
    "_  = lin_clf.fit(X, y)\n"
   ]
  },
  {
   "cell_type": "code",
   "execution_count": null,
   "metadata": {
    "cell_id": "0b48c3fa689443e79cd51c327201142c",
    "deepnote_cell_height": 309.6000061035156,
    "deepnote_cell_type": "code",
    "deepnote_to_be_reexecuted": false,
    "execution_millis": 1,
    "execution_start": 1661531707351,
    "source_hash": "e01c25a7",
    "tags": []
   },
   "outputs": [],
   "source": [
    "def plot_decision_surface(X, model, ax):\n",
    "    # Plot the decision boundary.\n",
    "    x_min, x_max = X[:, 0].min() - .5, X[:, 0].max() + .5\n",
    "    y_min, y_max = X[:, 1].min() - .5, X[:, 1].max() + .5\n",
    "    xx, yy = np.meshgrid(np.arange(x_min, x_max, 0.025), np.arange(y_min, y_max, 0.025))\n",
    "    Z = model.predict(np.c_[xx.ravel(), yy.ravel()])\n",
    "\n",
    "    # Define custom colormap\n",
    "    # cmap = colors.ListedColormap(['steelblue', '#a76c6e', '#6a9373'])\n",
    "\n",
    "    # Put the result into a color plot\n",
    "    Z = Z.reshape(xx.shape)\n",
    "    ax.pcolormesh(xx, yy, Z, cmap=\"RdBu\", alpha=0.5, zorder=1)\n"
   ]
  },
  {
   "cell_type": "code",
   "execution_count": null,
   "metadata": {
    "cell_id": "60bb1557591d4cb1825a75bd7e792bc6",
    "deepnote_cell_height": 790.4000244140625,
    "deepnote_cell_type": "code",
    "deepnote_output_heights": [
     591,
     576,
     580
    ],
    "deepnote_to_be_reexecuted": false,
    "execution_millis": 519,
    "execution_start": 1661531991681,
    "source_hash": "eefec0b5",
    "tags": []
   },
   "outputs": [],
   "source": [
    "fig, ax = plt.subplots(nrows=1, ncols=1, figsize=(10,10))\n",
    "plt.title(\"Decision Boundary\")\n",
    "for k in np.unique(y):\n",
    "    ax.scatter(X[y==k][:,0],X[y==k][:,1], label=str(k))\n",
    "plot_decision_surface(X, lin_clf, ax)\n",
    "plt.legend()\n",
    "plt.show()"
   ]
  },
  {
   "cell_type": "code",
   "execution_count": null,
   "metadata": {
    "cell_id": "02badf8d0e914fbc94c3ffb0e19ccdd2",
    "deepnote_cell_height": 183.60000610351562,
    "deepnote_cell_type": "code",
    "deepnote_output_heights": [
     null,
     39
    ],
    "deepnote_to_be_reexecuted": false,
    "execution_millis": 1,
    "execution_start": 1661532042752,
    "source_hash": "709369c7",
    "tags": []
   },
   "outputs": [],
   "source": [
    "# Ridge Classifier learns a decision boundary of the format: s = wx + b\n",
    "w = lin_clf.coef_\n",
    "b = lin_clf.intercept_\n",
    "\n",
    "# Q\n",
    "# compute the scores: s = wx + b, print the first 10 scores\n"
   ]
  },
  {
   "cell_type": "code",
   "execution_count": null,
   "metadata": {
    "cell_id": "c1c9135c46d54f7abb5fc22258179db6",
    "deepnote_cell_height": 148.39999389648438,
    "deepnote_cell_type": "code",
    "deepnote_output_heights": [
     39
    ],
    "deepnote_to_be_reexecuted": false,
    "execution_millis": 0,
    "execution_start": 1661531714065,
    "source_hash": "a3d93cec",
    "tags": []
   },
   "outputs": [],
   "source": [
    "# Q\n",
    "# Use lin_clf.decision_function to compute the scores and print the first 10 scores"
   ]
  },
  {
   "cell_type": "code",
   "execution_count": null,
   "metadata": {
    "cell_id": "3fa86b4add5e405a820f7f2006fffc0a",
    "deepnote_cell_height": 225.39999389648438,
    "deepnote_cell_type": "code",
    "deepnote_output_heights": [
     116
    ],
    "deepnote_to_be_reexecuted": false,
    "execution_millis": 899,
    "execution_start": 1661531759729,
    "source_hash": "98058230",
    "tags": []
   },
   "outputs": [],
   "source": [
    "# Use predict method to get the labels based on the decision boundary\n"
   ]
  },
  {
   "cell_type": "code",
   "execution_count": null,
   "metadata": {
    "cell_id": "484cb03831e54f60945c0901b5d19ae2",
    "deepnote_cell_height": 93.60000610351562,
    "deepnote_cell_type": "code",
    "deepnote_to_be_reexecuted": false,
    "execution_millis": 3,
    "execution_start": 1661531802824,
    "source_hash": "9aa5adee",
    "tags": []
   },
   "outputs": [],
   "source": [
    "from sklearn.metrics import confusion_matrix, accuracy_score\n"
   ]
  },
  {
   "cell_type": "code",
   "execution_count": null,
   "metadata": {
    "cell_id": "8b65d6a8a16a46d0b0912df4252fcdc1",
    "deepnote_cell_height": 129.39999389648438,
    "deepnote_cell_type": "code",
    "deepnote_output_heights": [
     20
    ],
    "deepnote_to_be_reexecuted": false,
    "execution_millis": 190,
    "execution_start": 1661531803836,
    "source_hash": "9622c1c8",
    "tags": []
   },
   "outputs": [],
   "source": [
    "# What is the accuracy of our linear classifier ?\n"
   ]
  },
  {
   "cell_type": "code",
   "execution_count": null,
   "metadata": {
    "cell_id": "753dfe1056814b52b1cdd1e20fc04092",
    "deepnote_cell_height": 106,
    "deepnote_cell_type": "code",
    "deepnote_to_be_reexecuted": false,
    "execution_millis": 0,
    "execution_start": 1661531813810,
    "source_hash": "662f0b91",
    "tags": []
   },
   "outputs": [],
   "source": [
    "# Use accuracy_score this time"
   ]
  },
  {
   "cell_type": "code",
   "execution_count": null,
   "metadata": {
    "cell_id": "f109fb478e894e3896c6bf75b7c2a63b",
    "deepnote_cell_height": 75.60000610351562,
    "deepnote_cell_type": "code",
    "deepnote_output_heights": [
     39
    ],
    "deepnote_to_be_reexecuted": false,
    "execution_millis": 0,
    "execution_start": 1661532187121,
    "source_hash": "24cb99eb",
    "tags": []
   },
   "outputs": [],
   "source": [
    "# Confusion matrix"
   ]
  }
 ],
 "metadata": {
  "deepnote": {},
  "deepnote_execution_queue": [],
  "deepnote_notebook_id": "6b5136a1-0d17-4d07-8142-608f9abf181c",
  "kernelspec": {
   "display_name": "Python 3 (ipykernel)",
   "language": "python",
   "name": "python3"
  },
  "language_info": {
   "codemirror_mode": {
    "name": "ipython",
    "version": 3
   },
   "file_extension": ".py",
   "mimetype": "text/x-python",
   "name": "python",
   "nbconvert_exporter": "python",
   "pygments_lexer": "ipython3",
   "version": "3.9.12"
  }
 },
 "nbformat": 4,
 "nbformat_minor": 1
}
