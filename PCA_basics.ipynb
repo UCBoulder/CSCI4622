{
 "cells": [
  {
   "cell_type": "markdown",
   "metadata": {
    "collapsed": true,
    "pycharm": {
     "name": "#%% md\n"
    }
   },
   "source": [
    "# Dimension Reduction"
   ]
  },
  {
   "cell_type": "code",
   "execution_count": null,
   "metadata": {
    "pycharm": {
     "name": "#%%\n"
    }
   },
   "outputs": [],
   "source": [
    "import matplotlib.pyplot as plt\n",
    "import numpy as np\n",
    "\n",
    "def plot_direction(X, u):\n",
    "    plt.scatter(X[:, 0], X[:, 1])\n",
    "    limits = np.array([np.min(X[:, 0]), np.max(X[:, 1])])\n",
    "    plt.plot(limits, limits * u[1] / u[0], c=\"g\", alpha=0.5)"
   ]
  },
  {
   "cell_type": "markdown",
   "metadata": {
    "pycharm": {
     "name": "#%% md\n"
    }
   },
   "source": [
    "# PCA\n",
    "\n",
    "We'll start with a simple 2-d dataset"
   ]
  },
  {
   "cell_type": "code",
   "execution_count": null,
   "metadata": {
    "pycharm": {
     "name": "#%%\n"
    }
   },
   "outputs": [],
   "source": [
    "np.random.seed(4622)\n",
    "X = np.random.normal(0, 1, (100, 2))\n",
    "X = X @ [[3, 3], [0, 1]]"
   ]
  },
  {
   "cell_type": "code",
   "execution_count": null,
   "metadata": {
    "pycharm": {
     "name": "#%%\n"
    }
   },
   "outputs": [],
   "source": [
    "plt.scatter(X[:, 0], X[:, 1])"
   ]
  },
  {
   "cell_type": "markdown",
   "metadata": {
    "pycharm": {
     "name": "#%% md\n"
    }
   },
   "source": [
    "Our initial goal is to find the direction $u$ (vector) on which the projection of samples maximal. Let's parameterize $u$ as $u_\\theta=(cos\\ \\theta, sin\\ \\theta)$ This also translates as:\n",
    "$$\n",
    "u = \\arg\\max_u \\sum_i||\\langle x,u\\rangle||^2 = f(X,u)\n",
    "$$"
   ]
  },
  {
   "cell_type": "markdown",
   "metadata": {
    "pycharm": {
     "name": "#%% md\n"
    }
   },
   "source": [
    "**Q1** - Complete `get_u` to return the direction given $\\theta$"
   ]
  },
  {
   "cell_type": "code",
   "execution_count": null,
   "metadata": {
    "pycharm": {
     "name": "#%%\n"
    }
   },
   "outputs": [],
   "source": [
    "def get_u(theta):\n",
    "    return ?"
   ]
  },
  {
   "cell_type": "markdown",
   "metadata": {
    "pycharm": {
     "name": "#%% md\n"
    }
   },
   "source": [
    "**Q2**- Complete `projection_sum` to return $f(X,u)$"
   ]
  },
  {
   "cell_type": "code",
   "execution_count": null,
   "metadata": {
    "pycharm": {
     "name": "#%%\n"
    }
   },
   "outputs": [],
   "source": [
    "def projection_sum(X, u):\n",
    "    return ?"
   ]
  },
  {
   "cell_type": "markdown",
   "metadata": {
    "pycharm": {
     "name": "#%% md\n"
    }
   },
   "source": [
    "**Q3** - Find the angle $\\theta*$ at which $f(X,u_\\theta)$ is maximal"
   ]
  },
  {
   "cell_type": "code",
   "execution_count": null,
   "metadata": {
    "pycharm": {
     "name": "#%%\n"
    }
   },
   "outputs": [],
   "source": [
    "projs = []\n",
    "thetas = np.linspace(0, 1, 200) * np.pi\n",
    "for theta in thetas:\n",
    "    projs.append(projection_sum(X, get_u(theta)))"
   ]
  },
  {
   "cell_type": "code",
   "execution_count": null,
   "metadata": {
    "pycharm": {
     "name": "#%%\n"
    }
   },
   "outputs": [],
   "source": [
    "plt.plot(thetas / np.pi, projs)\n",
    "best_th = thetas[np.argmax(projs)] / np.pi\n",
    "print(best_th)"
   ]
  },
  {
   "cell_type": "markdown",
   "metadata": {
    "pycharm": {
     "name": "#%% md\n"
    }
   },
   "source": [
    "We can also show that $\\theta*$ minimizes the linear construction loss:\n",
    "\n",
    "$$L(\\theta) = \\sum_i || x_i - \\langle x_i , u_\\theta \\rangle u_\\theta|| ^2$$\n",
    "\n",
    "**Q4** - complete `construction_loss`"
   ]
  },
  {
   "cell_type": "code",
   "execution_count": null,
   "metadata": {
    "pycharm": {
     "name": "#%%\n"
    }
   },
   "outputs": [],
   "source": [
    "def construction_loss(X,u):\n",
    "    return ?"
   ]
  },
  {
   "cell_type": "code",
   "execution_count": null,
   "metadata": {
    "pycharm": {
     "name": "#%%\n"
    }
   },
   "outputs": [],
   "source": [
    "losses = []\n",
    "thetas = np.linspace(0, 1, 200) * np.pi\n",
    "for theta in thetas:\n",
    "    losses.append(construction_loss(X, get_u(theta)))"
   ]
  },
  {
   "cell_type": "code",
   "execution_count": null,
   "metadata": {
    "pycharm": {
     "name": "#%%\n"
    }
   },
   "outputs": [],
   "source": [
    "plt.plot(thetas / np.pi, losses)\n",
    "best_th = thetas[np.argmin(losses)] / np.pi\n",
    "print(best_th)"
   ]
  },
  {
   "cell_type": "code",
   "execution_count": null,
   "metadata": {
    "pycharm": {
     "name": "#%%\n"
    }
   },
   "outputs": [],
   "source": [
    "plot_direction(X,get_u(best_th*np.pi))"
   ]
  },
  {
   "cell_type": "markdown",
   "metadata": {
    "pycharm": {
     "name": "#%% md\n"
    }
   },
   "source": [
    "What if we want to learn more than one Principle Component (PC)?: we can do so iteratively, after learning each component $u_i$ we substitute:\n",
    "$$x_i \\leftarrow x_i - \\langle x_i , u_\\theta \\rangle u_\\theta $$"
   ]
  },
  {
   "cell_type": "code",
   "execution_count": null,
   "metadata": {
    "pycharm": {
     "name": "#%%\n"
    }
   },
   "outputs": [],
   "source": [
    "u = get_u(best_th*np.pi)\n",
    "X2 = X-(X@u)[:,None] @ u[None,:]"
   ]
  },
  {
   "cell_type": "code",
   "execution_count": null,
   "metadata": {
    "pycharm": {
     "name": "#%%\n"
    }
   },
   "outputs": [],
   "source": [
    "plot_direction(X2,u)"
   ]
  },
  {
   "cell_type": "markdown",
   "metadata": {
    "pycharm": {
     "name": "#%% md\n"
    }
   },
   "source": [
    "Remember that all the PC components form a basis for our data space, so in $R^2$, PC2 should be orthonormal to PC1.\n",
    "\n",
    "More generally, the PCs are the eigenvectors of the covariance matrix $C = X^T X$"
   ]
  },
  {
   "cell_type": "code",
   "execution_count": null,
   "metadata": {
    "pycharm": {
     "name": "#%%\n"
    }
   },
   "outputs": [],
   "source": [
    "C = X.T @ X\n",
    "eigs, vects = np.linalg.eigh(C)"
   ]
  },
  {
   "cell_type": "code",
   "execution_count": null,
   "metadata": {
    "pycharm": {
     "name": "#%%\n"
    }
   },
   "outputs": [],
   "source": [
    "# check the obtained the best theta for PC1\n",
    "eigs, vects, np.arctan(vects[0][1]/vects[0][0])/np.pi"
   ]
  }
 ],
 "metadata": {
  "kernelspec": {
   "display_name": "Python 3 (ipykernel)",
   "language": "python",
   "name": "python3"
  },
  "language_info": {
   "codemirror_mode": {
    "name": "ipython",
    "version": 3
   },
   "file_extension": ".py",
   "mimetype": "text/x-python",
   "name": "python",
   "nbconvert_exporter": "python",
   "pygments_lexer": "ipython3",
   "version": "3.10.8"
  }
 },
 "nbformat": 4,
 "nbformat_minor": 1
}
